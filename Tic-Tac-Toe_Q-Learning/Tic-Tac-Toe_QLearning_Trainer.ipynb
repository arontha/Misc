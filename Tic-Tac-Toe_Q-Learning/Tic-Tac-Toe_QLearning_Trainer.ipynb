{
 "cells": [
  {
   "cell_type": "markdown",
   "metadata": {},
   "source": [
    "## Tic-Tac-Toe Robots\n",
    "This notebook will simulate many games played by 2 robots each picking completely random moves. It will then save all board states to determine which board states are most likely to win for x or o (or tie)."
   ]
  },
  {
   "cell_type": "code",
   "execution_count": 1,
   "metadata": {},
   "outputs": [],
   "source": [
    "from collections import defaultdict\n",
    "import random\n",
    "import numpy as np\n",
    "import time\n",
    "import json\n",
    "import os"
   ]
  },
  {
   "cell_type": "code",
   "execution_count": 2,
   "metadata": {},
   "outputs": [],
   "source": [
    "def init_boards():\n",
    "    x_plays = defaultdict(int)\n",
    "    o_plays = defaultdict(int)\n",
    "    return x_plays, o_plays"
   ]
  },
  {
   "cell_type": "code",
   "execution_count": 3,
   "metadata": {},
   "outputs": [],
   "source": [
    "def starting_board():\n",
    "    return '_________'"
   ]
  },
  {
   "cell_type": "code",
   "execution_count": 4,
   "metadata": {},
   "outputs": [],
   "source": [
    "def save_board(game, board):\n",
    "    game.append(board)    "
   ]
  },
  {
   "cell_type": "code",
   "execution_count": 5,
   "metadata": {},
   "outputs": [],
   "source": [
    "def random_move(board, player, x_plays, o_plays, num_games, max_games):\n",
    "    randomness = max(1-num_games/max_games,.1)\n",
    "    if random.random() < randomness:\n",
    "        valid_pos = False\n",
    "        while not valid_pos:\n",
    "            pos = random.randint(0,8)\n",
    "            if board[pos] == '_' and pos>=0: \n",
    "                return add_move(board, pos, player)\n",
    "    else:\n",
    "        valid_moves = []\n",
    "        inds = []\n",
    "        for i in range(0,9):\n",
    "            if board[i] == '_':\n",
    "                new_board = list(board)#.copy()\n",
    "                new_board[i] = player\n",
    "                new_board = ''.join(new_board)\n",
    "                valid_moves.append(new_board)\n",
    "                inds.append(i)\n",
    "        best_moves = []\n",
    "        d = o_plays.copy()\n",
    "        if player == 'x':\n",
    "            d = x_plays.copy()\n",
    "        for move in valid_moves:\n",
    "            best_moves.append(d[move])\n",
    "        return add_move(board, inds[best_moves.index(max(best_moves))], player)"
   ]
  },
  {
   "cell_type": "code",
   "execution_count": 6,
   "metadata": {},
   "outputs": [],
   "source": [
    "def add_move(board,pos, player):\n",
    "    l = list(board)\n",
    "    l[pos] = player\n",
    "    return ''.join(l)"
   ]
  },
  {
   "cell_type": "code",
   "execution_count": 7,
   "metadata": {},
   "outputs": [],
   "source": [
    "def check_winner(board, player):\n",
    "    check = list(board)\n",
    "    if len(set(check[0:3])) == 1 and check[0] == player: #1st row\n",
    "        return True\n",
    "    if len(set(check[3:6])) == 1 and check[3] == player: #2nd row\n",
    "        return True   \n",
    "    if len(set(check[6:])) == 1 and check[6] == player: #3rd row\n",
    "        return True   \n",
    "    if len(set(check[0::3])) == 1 and check[0] == player: #1st col\n",
    "        return True\n",
    "    if len(set(check[1::3])) == 1 and check[1] == player: #2nd col\n",
    "        return True   \n",
    "    if len(set(check[2::3])) == 1 and check[2] == player: #3rd col\n",
    "        return True  \n",
    "    diag1 = check[0]+check[4]+check[-1]\n",
    "    diag2 = check[2]+check[4]+check[6]\n",
    "    if len(set(diag1)) == 1 and check[4] == player: #1st diag\n",
    "        return True     \n",
    "    if len(set(diag2)) == 1 and check[4] == player: #2nd diag\n",
    "        return True   \n",
    "    return False"
   ]
  },
  {
   "cell_type": "code",
   "execution_count": 8,
   "metadata": {},
   "outputs": [],
   "source": [
    "def display_board(board):\n",
    "    disp = np.array(list(board))\n",
    "    disp.shape = (3,3)\n",
    "    for n in range(0,9):\n",
    "        i = int(n/3)\n",
    "        j = n%3\n",
    "        disp[i,j] = board[n]\n",
    "    print(np.where(disp=='_', ' ', disp))"
   ]
  },
  {
   "cell_type": "code",
   "execution_count": 9,
   "metadata": {},
   "outputs": [],
   "source": [
    "def robots_only(x_plays, o_plays, num_games, max_games):\n",
    "    player = 'x' #x always goes first\n",
    "    winner = False\n",
    "    board = starting_board()\n",
    "    board_states = [board]\n",
    "    \n",
    "    while (not winner) and '_' in board:\n",
    "        board = random_move(board, player, x_plays, o_plays, num_games, max_games)       \n",
    "            \n",
    "        winner = check_winner(board, player)\n",
    "        if winner == False:\n",
    "            if player == 'x':player = 'o'\n",
    "            else: player = 'x'\n",
    "        board_states.append(board)\n",
    "   \n",
    "    if winner == True:\n",
    "        return board_states, player\n",
    "    else: \n",
    "        return board_states, 'tie'"
   ]
  },
  {
   "cell_type": "code",
   "execution_count": 10,
   "metadata": {},
   "outputs": [],
   "source": [
    "def save_states(boards, x_plays, o_plays, winner):\n",
    "    winning_reward = 10\n",
    "    losing_reward = -20\n",
    "    tying_reward = 1\n",
    "    if winner == 'x':\n",
    "        x_reward = winning_reward\n",
    "        o_reward = losing_reward\n",
    "    elif winner == 'o':\n",
    "        x_reward = losing_reward \n",
    "        o_reward = winning_reward       \n",
    "    else:\n",
    "        x_reward = o_reward = tying_reward\n",
    "    for board, i in zip(boards[::2], range(len(boards))):\n",
    "        x_plays[board] = x_plays[board]*.9\n",
    "        x_plays[board] += .1*x_reward * (1-(len(boards)*4+i*4)/100)\n",
    "    for board in boards[1::2]:\n",
    "        o_plays[board] = o_plays[board]*.9 \n",
    "        o_plays[board] += .1*o_reward * (1-(len(boards)*4+i*4)/100)"
   ]
  },
  {
   "cell_type": "code",
   "execution_count": 11,
   "metadata": {},
   "outputs": [
    {
     "name": "stdout",
     "output_type": "stream",
     "text": [
      "50000 2.5\n",
      "100000 5.8\n",
      "150000 10.0\n",
      "200000 14.8\n",
      "250000 20.2\n",
      "300000 26.9\n",
      "350000 34.5\n",
      "400000 42.8\n",
      "450000 51.8\n",
      "500000 61.7\n",
      "550000 72.2\n",
      "600000 83.5\n",
      "650000 95.7\n",
      "700000 108.7\n",
      "750000 122.3\n",
      "800000 136.7\n",
      "850000 151.9\n",
      "900000 167.8\n",
      "950000 184.4\n",
      "1000000 201.9\n",
      "1050000 220.7\n",
      "1100000 240.0\n",
      "1150000 262.1\n",
      "1200000 283.4\n",
      "1250000 305.3\n",
      "1300000 329.4\n",
      "1350000 353.7\n",
      "1400000 379.4\n",
      "1450000 405.6\n",
      "1500000 434.1\n",
      "1550000 460.9\n",
      "1600000 488.6\n",
      "1650000 517.4\n",
      "1700000 547.1\n",
      "1750000 577.8\n",
      "1800000 611.4\n",
      "1850000 644.2\n",
      "1900000 678.1\n",
      "1950000 713.1\n",
      "2000000 749.7\n",
      "2050000 787.0\n",
      "2100000 826.2\n",
      "2150000 866.7\n",
      "2200000 908.3\n",
      "2250000 951.4\n",
      "2300000 995.7\n",
      "2350000 1039.1\n",
      "2400000 1082.3\n",
      "2450000 1128.7\n",
      "2500000 1174.7\n",
      "2500000 games played in 1174.7 seconds.\n"
     ]
    }
   ],
   "source": [
    "player = 'x' #x always goes first\n",
    "winner = False\n",
    "board = starting_board()\n",
    "x_plays, o_plays = init_boards()\n",
    "\n",
    "random.seed(7242)\n",
    "\n",
    "start_time = time.time()\n",
    "\n",
    "num_games = 0\n",
    "n = 2500000\n",
    "while num_games < n:\n",
    "    boards, winner = robots_only(x_plays, o_plays, num_games, n)\n",
    "    save_states(boards[1:], x_plays, o_plays, winner)\n",
    "    num_games+= 1\n",
    "    if num_games % 50000 == 0: print(num_games, round(time.time() - start_time, 1))\n",
    "    \n",
    "print(f\"{n} games played in {round(time.time() - start_time, 1)} seconds.\")"
   ]
  },
  {
   "cell_type": "code",
   "execution_count": null,
   "metadata": {},
   "outputs": [],
   "source": []
  },
  {
   "cell_type": "code",
   "execution_count": 12,
   "metadata": {},
   "outputs": [],
   "source": [
    "script_dir = os.path.dirname('__file__') #<-- absolute dir the script is in\n",
    "\n",
    "with open(os.path.join(script_dir, './x_plays/x_plays.txt'), 'w') as file:\n",
    "     file.write(json.dumps(x_plays))\n",
    "with open(os.path.join(script_dir, './o_plays/o_plays.txt'), 'w') as file:\n",
    "     file.write(json.dumps(o_plays))\n",
    " "
   ]
  },
  {
   "cell_type": "code",
   "execution_count": null,
   "metadata": {},
   "outputs": [],
   "source": []
  }
 ],
 "metadata": {
  "kernelspec": {
   "display_name": "Python 3",
   "language": "python",
   "name": "python3"
  },
  "language_info": {
   "codemirror_mode": {
    "name": "ipython",
    "version": 3
   },
   "file_extension": ".py",
   "mimetype": "text/x-python",
   "name": "python",
   "nbconvert_exporter": "python",
   "pygments_lexer": "ipython3",
   "version": "3.8.5"
  }
 },
 "nbformat": 4,
 "nbformat_minor": 4
}
