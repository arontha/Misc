{
 "cells": [
  {
   "cell_type": "markdown",
   "metadata": {},
   "source": [
    "### Bonus Content! A script to guess your number\n",
    "Based on the 'final exercise' of exercises and demos - CoLab Intro to Python and Jupyter Notebook except the roles are reversed. You think of a number and the script will guess your number.  \n",
    "  \n",
    "The solution is currently relying heavily on the random library, but an alternative solution is included using a simplified 'trisection' method where it guess a 3rd of the difference between the previous guess and the upper or lower limit. To see this alternative in action, simply comment out all rows using the random library and uncomment the line immediately above it (in each function and when declaring the first guess). "
   ]
  },
  {
   "cell_type": "code",
   "execution_count": 1,
   "metadata": {},
   "outputs": [],
   "source": [
    "#must run this cell before the cell below\n",
    "\n",
    "def guess_higher(last_guess, upper_limit=100):\n",
    "    '''\n",
    "    The guess_higher function is called if the user's number is higher than the guess.\n",
    "    It will return a new guess than is higher than the previous guess but lower than\n",
    "    the previous upper limit. Upper limit starts at the max but then decreases\n",
    "    every time the user responds with lower.\n",
    "    \n",
    "    2 calculations are provided. 1 is a trisection and the other is random. Simply\n",
    "    uncomment the version you wish to use and comment the version you don't wish to use.\n",
    "    '''\n",
    "    if upper_limit-last_guess <2:\n",
    "        return -1\n",
    "    #return last_guess + (upper_limit-last_guess)/3 #\"trisection\" solution\n",
    "    return random.randint(last_guess+1, upper_limit-1) #random solution\n",
    "\n",
    "\n",
    "def guess_lower(last_guess, lower_limit=1):\n",
    "    '''\n",
    "    The guess_lower function is called if the user's number is lower than the guess.\n",
    "    It will return a new guess than is lower than the previous guess but higher than\n",
    "    the previous lower limit. Lower limit starts at the min but then increases\n",
    "    every time the user responds with higher.\n",
    "    \n",
    "    2 calculations are provided. 1 is a trisection and the other is random. Simply\n",
    "    uncomment the version you wish to use and comment the version you don't wish to use.\n",
    "    '''\n",
    "    if last_guess-lower_limit <2:\n",
    "        return -1\n",
    "    #return last_guess - (last_guess-lower_limit)/3 #\"trisection\" solution\n",
    "    return random.randint(lower_limit+1, last_guess-1) #random solution"
   ]
  },
  {
   "cell_type": "code",
   "execution_count": 2,
   "metadata": {},
   "outputs": [
    {
     "name": "stdout",
     "output_type": "stream",
     "text": [
      "Hello! What is your name?\n",
      "Aron\n",
      "\n",
      "Hi Aron! Let's play a game!\n",
      "\n",
      "Think of a number (integer) between 1 and 100.\n",
      "\n",
      "The Rules:\n",
      "I get 10 chances to guess your number. After 10, you win!\n",
      "I will try and guess your number! Please respond with higher, lower or correct.\n",
      "Higher if your number is higher than the guess, lower if its lower. \n",
      "Is your number 100?   lower\n",
      "Is your number 59?   higher\n",
      "Is your number 93?   lower\n",
      "Is your number 83?   correct\n",
      "\n",
      "Hurray! Today is a lucky day! Your number was 83 and I found it in 4 guesses.\n",
      "Maybe next time you will win, Aron.\n"
     ]
    }
   ],
   "source": [
    "#must run the functions in above cell or else this will not work!\n",
    "import random\n",
    "\n",
    "upper_limit = 101 #must be 1 higher than a valid answer\n",
    "lower_limit = 0 #must be 1 lower than a valid answer\n",
    "\n",
    "\n",
    "my_name = input('Hello! What is your name?\\n')\n",
    "\n",
    "print(f\"\\nHi {my_name}! Let's play a game!\\n\")\n",
    "print(f\"Think of a number (integer) between {lower_limit+1} and {upper_limit-1}.\\n\")\n",
    "print(\"The Rules:\")    \n",
    "print(\"I get 10 chances to guess your number. After 10, you win!\")\n",
    "print('I will try and guess your number! Please respond with higher, lower or correct.')\n",
    "print('Higher if your number is higher than the guess, lower if its lower. ')\n",
    "\n",
    "\n",
    "#initiate first guess\n",
    "#guess = int(lower_limit + (upper_limit-lower_limit)/3) #\"trisection\" solution\n",
    "guess = random.randint(lower_limit+1, upper_limit-1) #random solution\n",
    "\n",
    "guesses_taken = 0\n",
    "\n",
    "while guesses_taken < 10:\n",
    "    #guess and receive feedback\n",
    "    guess_feedback = input(f'Is your number {int(guess)}?   ').lower()\n",
    "    \n",
    "    #evaluate feedback\n",
    "    if guess_feedback == 'correct': \n",
    "        print(f\"\\nHurray! Today is my lucky day! Your number was {guess} and I found it in {guesses_taken+1} guesses.\")\n",
    "        print(f\"Maybe next time you will win, {my_name}.\")\n",
    "        break\n",
    "    elif guess_feedback == 'higher':\n",
    "        lower_limit = guess\n",
    "        guess = guess_higher(guess, upper_limit)\n",
    "        guesses_taken = guesses_taken + 1   \n",
    "    elif guess_feedback == 'lower':\n",
    "        upper_limit = guess\n",
    "        guess = guess_lower(guess, lower_limit)   \n",
    "        guesses_taken = guesses_taken + 1   \n",
    "    else: #to ensure the user inputs a valid response\n",
    "        print(f\"{my_name}, your response is invalid. Please input higher/lower/correct.\")\n",
    "    \n",
    "    #special behavior in certain cases\n",
    "    if guesses_taken>9: \n",
    "        print(f\"I guess I have bad luck. You win {my_name}\")\n",
    "        break\n",
    "    elif guess == -1: #only if the user provides contradicting higher/lower feedback\n",
    "        print(\"I give up. Either you forgot your number or you're trying to trick me.\")\n",
    "        break"
   ]
  }
 ],
 "metadata": {
  "kernelspec": {
   "display_name": "Python 3",
   "language": "python",
   "name": "python3"
  },
  "language_info": {
   "codemirror_mode": {
    "name": "ipython",
    "version": 3
   },
   "file_extension": ".py",
   "mimetype": "text/x-python",
   "name": "python",
   "nbconvert_exporter": "python",
   "pygments_lexer": "ipython3",
   "version": "3.7.0"
  }
 },
 "nbformat": 4,
 "nbformat_minor": 2
}
