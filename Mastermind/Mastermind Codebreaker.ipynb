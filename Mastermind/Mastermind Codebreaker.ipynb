{
 "cells": [
  {
   "cell_type": "markdown",
   "metadata": {},
   "source": [
    "# Mastermind: Codebreaker Edition"
   ]
  },
  {
   "cell_type": "markdown",
   "metadata": {},
   "source": [
    "This is a rendition of the classic game [Mastermind](https://en.wikipedia.org/wiki/Mastermind_(board_game)). In this scenario, the user is 'player 1' and the program will be 'player 2'."
   ]
  },
  {
   "cell_type": "markdown",
   "metadata": {},
   "source": [
    "#### Player 1 (user) role aka Codebreaker: \n",
    "- Guess the colored pegs within 12 guesses. \n",
    "\n",
    "#### Player 2 (program) role aka Codemaker: \n",
    "- Choose initial 4 colored pegs to 'make' the code (hidden to Player 1)\n",
    "- Respond to each guess of Player 1 with a white peg or black peg."
   ]
  },
  {
   "cell_type": "markdown",
   "metadata": {},
   "source": [
    "#### Pegs\n",
    "- Colored pegs aka \"code pegs\": six different types (represented by numbers 1-6 in this example)\n",
    "- White/Black pegs aka \"key pegs\": each black peg indicates one code peg being correct color and position, and each white peg indicates one code peg being correct color but incorrect position  \n",
    "  \n",
    "[Entire rules can be found here](https://en.wikipedia.org/wiki/Mastermind_(board_game)#Gameplay_and_rules)"
   ]
  },
  {
   "cell_type": "markdown",
   "metadata": {},
   "source": [
    "#### Valid Codemaking\n",
    "Any combination of the 6 colored pegs can be used, including repeated colors or an empty position which will be represented by 0."
   ]
  },
  {
   "cell_type": "code",
   "execution_count": 1,
   "metadata": {},
   "outputs": [],
   "source": [
    "import random #to randomly codemake"
   ]
  },
  {
   "cell_type": "code",
   "execution_count": 2,
   "metadata": {},
   "outputs": [],
   "source": [
    "def codemake():\n",
    "    #Create initial code as list of 4 ints 0-6 as string\n",
    "    l = []\n",
    "    for num in range(4):\n",
    "        l.append(str(int(random.random()*7)))\n",
    "    return l"
   ]
  },
  {
   "cell_type": "code",
   "execution_count": 3,
   "metadata": {},
   "outputs": [],
   "source": [
    "code = codemake() #instantiate code"
   ]
  },
  {
   "cell_type": "code",
   "execution_count": 4,
   "metadata": {},
   "outputs": [],
   "source": [
    "def evaluate_guess(guess, code):\n",
    "    '''\n",
    "    param guess: user's guess str of 4 digits with len(4)\n",
    "    param code: code made from codemake()\n",
    "    return black, white: num of black and white pegs respectively \n",
    "    '''\n",
    "    guess = list(guess)\n",
    "    original_guess = guess.copy() #preserve original\n",
    "    remaining_code = code.copy() #preserve original\n",
    "    black = 0\n",
    "    white = 0\n",
    "    \n",
    "    for g,c,i in zip(original_guess,code, range(0,4)): #evaluate black first\n",
    "        if g == c: \n",
    "            black += 1\n",
    "            guess.pop(i-(4-len(guess))) #remove exact matches to evaluate white\n",
    "            remaining_code.pop(i-(4-len(guess)-1)) #remove exact matches to evaluate white\n",
    "    for g in set(guess): #evaluate white\n",
    "        if g in remaining_code: white+= 1\n",
    "    return black, white"
   ]
  },
  {
   "cell_type": "code",
   "execution_count": 5,
   "metadata": {},
   "outputs": [
    {
     "name": "stdout",
     "output_type": "stream",
     "text": [
      "Let's play Mastermind! Can you guess my code?\n",
      "\n",
      "Please enter your guess as four digits 0-7: 1234\n",
      "0 black pegs and 0 white pegs\n",
      "\n",
      "Please enter your guess as four digits 0-7: 5656\n",
      "2 black pegs and 1 white pegs\n",
      "\n",
      "Please enter your guess as four digits 0-7: 5660\n",
      "1 black pegs and 2 white pegs\n",
      "\n",
      "Please enter your guess as four digits 0-7: 5506\n",
      "0 black pegs and 3 white pegs\n",
      "\n",
      "Please enter your guess as four digits 0-7: 0656\n",
      "3 black pegs and 0 white pegs\n",
      "\n",
      "Please enter your guess as four digits 0-7: 6656\n",
      "2 black pegs and 0 white pegs\n",
      "\n",
      "Please enter your guess as four digits 0-7: 0666\n",
      "2 black pegs and 0 white pegs\n",
      "\n",
      "Please enter your guess as four digits 0-7: 0556\n",
      "2 black pegs and 2 white pegs\n",
      "\n",
      "Please enter your guess as four digits 0-7: 5056\n",
      "1 black pegs and 3 white pegs\n",
      "\n",
      "Please enter your guess as four digits 0-7: 0655\n",
      "4 black pegs and 0 white pegs\n",
      "\n",
      "*********Congratulations!*********\n",
      "You broke the code in 10 tries!\n"
     ]
    }
   ],
   "source": [
    "max_guesses = 12 #change this value to shorten and lengthen game\n",
    "\n",
    "num_guesses = 0\n",
    "won = False\n",
    "\n",
    "print(\"Let's play Mastermind! Can you guess my code?\\n\")\n",
    "\n",
    "while ((num_guesses < max_guesses) and (not won)):\n",
    "    guess = input(\"Please enter your guess as four digits 0-7: \")\n",
    "    if guess == 'quit': num_guesses = 10000\n",
    "    else:\n",
    "        black, white = evaluate_guess(guess, code)\n",
    "        print(f\"{black} black pegs and {white} white pegs\\n\")\n",
    "        num_guesses += 1\n",
    "        if black == 4: won = True\n",
    "\n",
    "if won:\n",
    "    print(f\"*********Congratulations!*********\\nYou broke the code in {num_guesses} tries!\")\n",
    "else: \n",
    "    print(f\"Sorry. Better luck next time! The code was {code}\")"
   ]
  },
  {
   "cell_type": "code",
   "execution_count": null,
   "metadata": {},
   "outputs": [],
   "source": []
  }
 ],
 "metadata": {
  "kernelspec": {
   "display_name": "Python 3",
   "language": "python",
   "name": "python3"
  },
  "language_info": {
   "codemirror_mode": {
    "name": "ipython",
    "version": 3
   },
   "file_extension": ".py",
   "mimetype": "text/x-python",
   "name": "python",
   "nbconvert_exporter": "python",
   "pygments_lexer": "ipython3",
   "version": "3.8.5"
  }
 },
 "nbformat": 4,
 "nbformat_minor": 4
}
