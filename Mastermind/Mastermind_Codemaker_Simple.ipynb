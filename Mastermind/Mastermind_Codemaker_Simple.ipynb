{
 "cells": [
  {
   "cell_type": "markdown",
   "metadata": {},
   "source": [
    "# Mastermind: Codemaker Edition"
   ]
  },
  {
   "cell_type": "markdown",
   "metadata": {},
   "source": [
    "This is a rendition of the classic game [Mastermind](https://en.wikipedia.org/wiki/Mastermind_(board_game)). In this scenario, the program is 'player 1' and the user will be 'player 2'."
   ]
  },
  {
   "cell_type": "markdown",
   "metadata": {},
   "source": [
    "#### Player 1 (program) role aka Codebreaker: \n",
    "- Guess the colored pegs within 12 guesses. \n",
    "\n",
    "#### Player 2 (user) role aka Codemaker: \n",
    "- Choose initial 4 colored pegs to 'make' the code\n",
    "- Respond to each guess with a white peg or black peg."
   ]
  },
  {
   "cell_type": "markdown",
   "metadata": {},
   "source": [
    "#### Pegs\n",
    "- Colored pegs aka \"code pegs\": six different types (represented by numbers 1-6 in this example)\n",
    "- White/Black pegs aka \"key pegs\": each black peg indicates one code peg being correct color and position, and each white peg indicates one code peg being correct color but incorrect position  \n",
    "  \n",
    "[Entire rules can be found here](https://en.wikipedia.org/wiki/Mastermind_(board_game)#Gameplay_and_rules)"
   ]
  },
  {
   "cell_type": "code",
   "execution_count": 1,
   "metadata": {},
   "outputs": [],
   "source": [
    "import random"
   ]
  },
  {
   "cell_type": "code",
   "execution_count": 2,
   "metadata": {},
   "outputs": [],
   "source": [
    "def get_code():\n",
    "    '''\n",
    "    Prompts user to enter the 4 digit code\n",
    "    Checks that users code is 4 digits between 0-6 and forces\n",
    "    user to re-enter code if input was invalid\n",
    "    '''\n",
    "    valid = False\n",
    "    while not valid:\n",
    "        valid = True\n",
    "        code = input(\"Please enter your code as 4 consecutive digits each from 0-6: \")\n",
    "        print(f\"You entered {code}.\")\n",
    "        if len(code) == 4:\n",
    "            for peg in list(code):\n",
    "                if (not peg.isdigit()) or (int(peg)>6): #ensure values are digits 0-6\n",
    "                    valid = False                   \n",
    "        else:\n",
    "            valid = False\n",
    "        if not valid:\n",
    "            print(\"Your code is invalid - try again.\\n\")\n",
    "    return code"
   ]
  },
  {
   "cell_type": "code",
   "execution_count": 3,
   "metadata": {},
   "outputs": [],
   "source": [
    "def random_guess():\n",
    "    '''\n",
    "    Returns random 4 digit guess without considering feedback\n",
    "    '''\n",
    "    guess = []\n",
    "    for pos in range(4):\n",
    "        guess.append(str(int(random.random()*7)))\n",
    "    return guess"
   ]
  },
  {
   "cell_type": "code",
   "execution_count": 4,
   "metadata": {},
   "outputs": [],
   "source": [
    "def evaluate_guess(guess, code):\n",
    "    '''\n",
    "    param guess: user's guess str of 4 digits with len(4)\n",
    "    param code: code made from codemake()\n",
    "    return black, white: num of black and white pegs respectively \n",
    "    '''\n",
    "    guess = list(guess)\n",
    "    original_guess = guess.copy() #preserve original\n",
    "    remaining_code = code.copy() #preserve original\n",
    "    black = 0\n",
    "    white = 0\n",
    "    \n",
    "    for g,c,i in zip(original_guess,code, range(0,4)): #evaluate black first\n",
    "        if g == c: \n",
    "            black += 1\n",
    "            guess.pop(i-(4-len(guess))) #remove exact matches to evaluate white\n",
    "            remaining_code.pop(i-(4-len(guess)-1)) #remove exact matches to evaluate white\n",
    "    for g in set(guess): #evaluate white\n",
    "        if g in remaining_code: white+= 1\n",
    "    return black, white"
   ]
  },
  {
   "cell_type": "code",
   "execution_count": 5,
   "metadata": {},
   "outputs": [],
   "source": [
    "def update_guess(blacks, whites, prev_guess):\n",
    "    '''\n",
    "    returns new guess only based on the most recent feedback\n",
    "    '''\n",
    "    while True:\n",
    "        new_guess = random_guess()\n",
    "        same_pos, diff_pos = evaluate_guess(new_guess, prev_guess)\n",
    "        if (same_pos == blacks) and (diff_pos == whites):\n",
    "            return new_guess \n",
    "    "
   ]
  },
  {
   "cell_type": "code",
   "execution_count": 8,
   "metadata": {},
   "outputs": [
    {
     "name": "stdout",
     "output_type": "stream",
     "text": [
      "\n",
      "Is the code ['0', '0', '6', '1']? no\n",
      "How many black pegs? 0\n",
      "And how many white pegs? 1\n",
      "\n",
      "Is the code ['1', '2', '4', '5']? no\n",
      "How many black pegs? 2\n",
      "And how many white pegs? 1\n",
      "\n",
      "Is the code ['2', '2', '4', '1']? no\n",
      "How many black pegs? 1\n",
      "And how many white pegs? 2\n",
      "\n",
      "Is the code ['4', '2', '2', '6']? no\n",
      "How many black pegs? 1\n",
      "And how many white pegs? 1\n",
      "\n",
      "Is the code ['6', '6', '2', '5']? no\n",
      "How many black pegs? 0\n",
      "And how many white pegs? 1\n",
      "\n",
      "Is the code ['3', '4', '6', '3']? no\n",
      "How many black pegs? 0\n",
      "And how many white pegs? 2\n",
      "\n",
      "Is the code ['5', '6', '3', '1']? no\n",
      "How many black pegs? 1\n",
      "And how many white pegs? 1\n",
      "\n",
      "Is the code ['6', '0', '3', '3']? no\n",
      "How many black pegs? 1\n",
      "And how many white pegs? 0\n",
      "\n",
      "Is the code ['0', '0', '2', '1']? no\n",
      "How many black pegs? 0\n",
      "And how many white pegs? 2\n",
      "\n",
      "Is the code ['3', '2', '0', '3']? no\n",
      "How many black pegs? 1\n",
      "And how many white pegs? 1\n",
      "\n",
      "Is the code ['1', '3', '6', '3']? no\n",
      "How many black pegs? 1\n",
      "And how many white pegs? 1\n",
      "\n",
      "Is the code ['3', '5', '6', '0']? no\n",
      "How many black pegs? 0\n",
      "And how many white pegs? 1\n",
      "\n",
      "Is the code ['6', '1', '4', '6']? no\n",
      "How many black pegs? 0\n",
      "And how many white pegs? 2\n",
      "\n",
      "Is the code ['4', '2', '1', '3']? no\n",
      "How many black pegs? 1\n",
      "And how many white pegs? 3\n",
      "\n",
      "Is the code ['4', '1', '3', '2']? no\n",
      "How many black pegs? 1\n",
      "And how many white pegs? 3\n",
      "\n",
      "Is the code ['1', '2', '3', '4']? yes\n",
      "I got lucky.\n"
     ]
    }
   ],
   "source": [
    "guess = random_guess()\n",
    "\n",
    "while True:\n",
    "    response = input(f\"\\nIs the code {guess}? \")\n",
    "    if (response == 'correct') or (response == 'yes'):\n",
    "        print(\"I got lucky.\")\n",
    "        break\n",
    "    else:\n",
    "        blacks = input(\"How many black pegs? \")\n",
    "        whites = input(\"And how many white pegs? \")\n",
    "        pegs = int(blacks)+int(whites)\n",
    "        if (pegs > 4):\n",
    "            print(\"You didn't provide a valid number of pegs.\")\n",
    "            break\n",
    "    prev_guess = guess.copy()\n",
    "    guess = update_guess(int(blacks), int(whites), prev_guess)\n",
    "    \n"
   ]
  },
  {
   "cell_type": "code",
   "execution_count": null,
   "metadata": {},
   "outputs": [],
   "source": []
  }
 ],
 "metadata": {
  "kernelspec": {
   "display_name": "Python 3",
   "language": "python",
   "name": "python3"
  },
  "language_info": {
   "codemirror_mode": {
    "name": "ipython",
    "version": 3
   },
   "file_extension": ".py",
   "mimetype": "text/x-python",
   "name": "python",
   "nbconvert_exporter": "python",
   "pygments_lexer": "ipython3",
   "version": "3.8.5"
  }
 },
 "nbformat": 4,
 "nbformat_minor": 4
}
